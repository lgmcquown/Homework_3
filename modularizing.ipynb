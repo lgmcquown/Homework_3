{
 "cells": [
  {
   "cell_type": "code",
   "execution_count": 1,
   "metadata": {
    "collapsed": true
   },
   "outputs": [],
   "source": [
    "lines = [line.rstrip('/n') for line in open('elelib.std')]\n",
    "Eledict = {}"
   ]
  },
  {
   "cell_type": "code",
   "execution_count": 2,
   "metadata": {
    "collapsed": false
   },
   "outputs": [],
   "source": [
    "def ParseEle(line):\n",
    "    ElementData = line.split()\n",
    "    #line_number += 1\n",
    "    Symbol = ElementData[0] \n",
    "    Eledict[Symbol] = {\"MM\" : ElementData[1], \"Z\" : ElementData[2], \"rho\" : ElementData[3]}\n",
    "    return Eledict\n"
   ]
  },
  {
   "cell_type": "code",
   "execution_count": 3,
   "metadata": {
    "collapsed": false
   },
   "outputs": [],
   "source": [
    "def ParseIso(line,Symbol,Eledict):\n",
    "    Eledict[Symbol][\"IsoList\"] = {}\n",
    "    IsoData = line.split()\n",
    "    Eledict[Symbol][\"IsoList\"][IsoData[0]] = IsoData[1]\n"
   ]
  },
  {
   "cell_type": "code",
   "execution_count": 4,
   "metadata": {
    "collapsed": false
   },
   "outputs": [
    {
     "data": {
      "text/plain": [
       "{'h': {'MM': '0.100790E+01', 'Z': '1', 'rho': '0.899000E-04'}}"
      ]
     },
     "execution_count": 4,
     "metadata": {},
     "output_type": "execute_result"
    }
   ],
   "source": [
    "A = ParseEle(lines[0])\n",
    "A"
   ]
  },
  {
   "cell_type": "code",
   "execution_count": 5,
   "metadata": {
    "collapsed": false
   },
   "outputs": [],
   "source": [
    "B = ParseIso(lines[1],'h', Eledict,)\n",
    "B"
   ]
  },
  {
   "cell_type": "code",
   "execution_count": 6,
   "metadata": {
    "collapsed": false
   },
   "outputs": [],
   "source": [
    "def ParseFile(file):\n",
    "    lines = [line.rstrip('/n') for line in open('file')]\n",
    "    Eledict = {}\n",
    "    Number_of_lines = len(lines)\n",
    "    line_number = 0\n",
    "    while line_number < Number_of_lines:\n",
    "        Symbol = lines[line_number].split()[0]\n",
    "        Eledict[symbol] = ParseEle(lines[line_number])\n",
    "        NumIsos = int(lines[line_number][4])\n",
    "        \n",
    "        line_number += 1\n",
    "        \n",
    "        \n",
    "        for iso in range(NumIsos):\n",
    "            ParseIso(lines[line_number],Symbol,Eledict)\n",
    "            line_number += 1\n",
    "    return Eledict"
   ]
  },
  {
   "cell_type": "code",
   "execution_count": 7,
   "metadata": {
    "collapsed": false
   },
   "outputs": [
    {
     "ename": "NameError",
     "evalue": "name 'elelib' is not defined",
     "output_type": "error",
     "traceback": [
      "\u001b[1;31m---------------------------------------------------------------------------\u001b[0m",
      "\u001b[1;31mNameError\u001b[0m                                 Traceback (most recent call last)",
      "\u001b[1;32m<ipython-input-7-471b6ce900ea>\u001b[0m in \u001b[0;36m<module>\u001b[1;34m()\u001b[0m\n\u001b[1;32m----> 1\u001b[1;33m \u001b[0mParseFile\u001b[0m\u001b[1;33m(\u001b[0m\u001b[0melelib\u001b[0m\u001b[1;33m.\u001b[0m\u001b[0mstd\u001b[0m\u001b[1;33m)\u001b[0m\u001b[1;33m\u001b[0m\u001b[0m\n\u001b[0m",
      "\u001b[1;31mNameError\u001b[0m: name 'elelib' is not defined"
     ]
    }
   ],
   "source": [
    "ParseFile(elelib.std)"
   ]
  },
  {
   "cell_type": "code",
   "execution_count": null,
   "metadata": {
    "collapsed": true
   },
   "outputs": [],
   "source": []
  }
 ],
 "metadata": {
  "kernelspec": {
   "display_name": "Python 3",
   "language": "python",
   "name": "python3"
  },
  "language_info": {
   "codemirror_mode": {
    "name": "ipython",
    "version": 3
   },
   "file_extension": ".py",
   "mimetype": "text/x-python",
   "name": "python",
   "nbconvert_exporter": "python",
   "pygments_lexer": "ipython3",
   "version": "3.5.1"
  }
 },
 "nbformat": 4,
 "nbformat_minor": 0
}
