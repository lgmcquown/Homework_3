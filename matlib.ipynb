{
 "cells": [
  {
   "cell_type": "code",
   "execution_count": 1,
   "metadata": {
    "collapsed": true
   },
   "outputs": [],
   "source": [
    "import pdb"
   ]
  },
  {
   "cell_type": "code",
   "execution_count": 2,
   "metadata": {
    "collapsed": true
   },
   "outputs": [],
   "source": [
    "lines = [line.rstrip('/n') for line in open('matlib.std')]"
   ]
  },
  {
   "cell_type": "code",
   "execution_count": 3,
   "metadata": {
    "collapsed": true
   },
   "outputs": [],
   "source": [
    "Matdict = {}"
   ]
  },
  {
   "cell_type": "code",
   "execution_count": 4,
   "metadata": {
    "collapsed": false
   },
   "outputs": [],
   "source": [
    "Number_of_lines = len(lines)\n",
    "line_number = 0\n",
    "while line_number < Number_of_lines:\n",
    "    MaterialData = lines[line_number].split()\n",
    "    line_number += 1\n",
    "    #pdb.set_trace()\n",
    "    Material = MaterialData[0] \n",
    "    Matdict[Material] = {\"rho\" : MaterialData[1]}\n",
    "    NumEle = MaterialData[2]\n",
    "\n",
    "    Matdict[Material][\"EleList\"] = {}\n",
    "    for mat in range(int(NumEle)):\n",
    "        EleData = lines[line_number].split()\n",
    "        line_number += 1\n",
    "        Matdict[Material][\"EleList\"][EleData[0]] = {\"Mass%\" : EleData[1], \"AtomicNum\" : EleData[2]}\n",
    "        "
   ]
  },
  {
   "cell_type": "code",
   "execution_count": 5,
   "metadata": {
    "collapsed": false
   },
   "outputs": [
    {
     "data": {
      "text/plain": [
       "{'BRONZE': {'EleList': {'cu': {'AtomicNum': '29', 'Mass%': '0.91997e+02'},\n",
       "   'sn': {'AtomicNum': '50', 'Mass%': '0.80027e+01'}},\n",
       "  'rho': '0.88004e+01'},\n",
       " 'Inc625': {'EleList': {'al': {'AtomicNum': '13', 'Mass%': '0.11994e+00'},\n",
       "   'c': {'AtomicNum': '6', 'Mass%': '0.40055e-01'},\n",
       "   'co': {'AtomicNum': '27', 'Mass%': '0.50007e-01'},\n",
       "   'cr': {'AtomicNum': '25', 'Mass%': '0.22189e+02'},\n",
       "   'cu': {'AtomicNum': '29', 'Mass%': '0.29532e-01'},\n",
       "   'fe': {'AtomicNum': '26', 'Mass%': '0.25597e+01'},\n",
       "   'mn': {'AtomicNum': '25', 'Mass%': '0.39942e-01'},\n",
       "   'mo': {'AtomicNum': '42', 'Mass%': '0.92876e+01'},\n",
       "   'nb': {'AtomicNum': '41', 'Mass%': '0.30616e+01'},\n",
       "   'ni': {'AtomicNum': '28', 'Mass%': '0.61464e+02'},\n",
       "   's': {'AtomicNum': '16', 'Mass%': '0.80441e-02'},\n",
       "   'si': {'AtomicNum': '14', 'Mass%': '0.18977e+00'},\n",
       "   'ta': {'AtomicNum': '73', 'Mass%': '0.77039e+00'},\n",
       "   'ti': {'AtomicNum': '22', 'Mass%': '0.19021e+00'}},\n",
       "  'rho': '0.84080e+01'},\n",
       " 'Nb3Sn': {'EleList': {'nb': {'AtomicNum': '41', 'Mass%': '0.70127e+02'},\n",
       "   'sn': {'AtomicNum': '50', 'Mass%': '0.29873e+02'}},\n",
       "  'rho': '0.89010e+01'},\n",
       " 'R-EPXY': {'EleList': {'al': {'AtomicNum': '13', 'Mass%': '0.92645e+01'},\n",
       "   'c': {'AtomicNum': '6', 'Mass%': '0.19855e+02'},\n",
       "   'cu': {'AtomicNum': '29', 'Mass%': '0.50525e+01'},\n",
       "   'h': {'AtomicNum': '1', 'Mass%': '0.19046e+01'},\n",
       "   'mg': {'AtomicNum': '12', 'Mass%': '0.25275e+01'},\n",
       "   'n': {'AtomicNum': '7', 'Mass%': '0.25210e+01'},\n",
       "   'o': {'AtomicNum': '8', 'Mass%': '0.37815e+02'},\n",
       "   's': {'AtomicNum': '16', 'Mass%': '0.14287e+01'},\n",
       "   'si': {'AtomicNum': '14', 'Mass%': '0.19631e+02'}},\n",
       "  'rho': '0.19006e+01'},\n",
       " 'WALLOY': {'EleList': {'co': {'AtomicNum': '27', 'Mass%': '0.10000e+00'},\n",
       "   'cu': {'AtomicNum': '29', 'Mass%': '0.55000e+00'},\n",
       "   'fe': {'AtomicNum': '26', 'Mass%': '0.73000e+00'},\n",
       "   'ni': {'AtomicNum': '28', 'Mass%': '0.14400e+01'},\n",
       "   'w': {'AtomicNum': '74', 'Mass%': '0.97180e+02'}},\n",
       "  'rho': '0.18130e+02'},\n",
       " 'b4c': {'EleList': {'b': {'AtomicNum': '5', 'Mass%': '0.78261e+02'},\n",
       "   'c': {'AtomicNum': '6', 'Mass%': '0.21738e+02'}},\n",
       "  'rho': '0.24205e+01'},\n",
       " 'water': {'EleList': {'h': {'AtomicNum': '1', 'Mass%': '11.111'},\n",
       "   'o': {'AtomicNum': '8', 'Mass%': '88.889'}},\n",
       "  'rho': '1.00'}}"
      ]
     },
     "execution_count": 5,
     "metadata": {},
     "output_type": "execute_result"
    }
   ],
   "source": [
    "Matdict"
   ]
  },
  {
   "cell_type": "code",
   "execution_count": null,
   "metadata": {
    "collapsed": true
   },
   "outputs": [],
   "source": []
  }
 ],
 "metadata": {
  "kernelspec": {
   "display_name": "Python 3",
   "language": "python",
   "name": "python3"
  },
  "language_info": {
   "codemirror_mode": {
    "name": "ipython",
    "version": 3
   },
   "file_extension": ".py",
   "mimetype": "text/x-python",
   "name": "python",
   "nbconvert_exporter": "python",
   "pygments_lexer": "ipython3",
   "version": "3.5.1"
  }
 },
 "nbformat": 4,
 "nbformat_minor": 0
}
